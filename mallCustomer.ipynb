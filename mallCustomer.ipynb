{
  "nbformat": 4,
  "nbformat_minor": 0,
  "metadata": {
    "colab": {
      "provenance": [],
      "authorship_tag": "ABX9TyPjoz4l0V8Bwhv7rDTwyZY4",
      "include_colab_link": true
    },
    "kernelspec": {
      "name": "python3",
      "display_name": "Python 3"
    },
    "language_info": {
      "name": "python"
    }
  },
  "cells": [
    {
      "cell_type": "markdown",
      "metadata": {
        "id": "view-in-github",
        "colab_type": "text"
      },
      "source": [
        "<a href=\"https://colab.research.google.com/github/Ruturaj-jawale/DSBDA/blob/main/mallCustomer.ipynb\" target=\"_parent\"><img src=\"https://colab.research.google.com/assets/colab-badge.svg\" alt=\"Open In Colab\"/></a>"
      ]
    },
    {
      "cell_type": "code",
      "execution_count": 1,
      "metadata": {
        "id": "o4Vozn_U8rpR"
      },
      "outputs": [],
      "source": [
        "import pandas as pd\n",
        "import numpy as np\n",
        "import matplotlib.pyplot as plt\n",
        "import seaborn as sns\n",
        "import warnings\n",
        "warnings.filterwarnings('ignore')\n",
        "\n"
      ]
    },
    {
      "cell_type": "code",
      "source": [
        "mall = pd.read_csv('/content/Mall_Customers.csv')\n",
        "print(mall.head())\n",
        "\n",
        "\n",
        "\n",
        "avg_spending = sum(mall['Spending Score (1-100)'])/len(mall['Spending Score (1-100)'])\n",
        "print(avg_spending)"
      ],
      "metadata": {
        "colab": {
          "base_uri": "https://localhost:8080/"
        },
        "id": "vMl-1FIJ82Cg",
        "outputId": "543998b2-5b8c-4c07-ce7f-f33fc0e1cde3"
      },
      "execution_count": 14,
      "outputs": [
        {
          "output_type": "stream",
          "name": "stdout",
          "text": [
            "   CustomerID   Genre  Age  Annual Income (k$)  Spending Score (1-100)\n",
            "0           1    Male   19                  15                      39\n",
            "1           2    Male   21                  15                      81\n",
            "2           3  Female   20                  16                       6\n",
            "3           4  Female   23                  16                      77\n",
            "4           5  Female   31                  17                      40\n",
            "50.2\n"
          ]
        }
      ]
    },
    {
      "cell_type": "code",
      "source": [
        "import pandas as pd\n",
        "\n",
        "# Assuming 'mall' is your DataFrame\n",
        "numeric_columns = mall.select_dtypes(include=['number'])\n",
        "\n",
        "# Calculate required statistics\n",
        "mean_stats = numeric_columns.mean()\n",
        "mode_stats = numeric_columns.mode().iloc[0]  # Mode can have multiple values, taking the first one\n",
        "min_stats = numeric_columns.min()\n",
        "max_stats = numeric_columns.max()\n",
        "std_stats = numeric_columns.std()\n",
        "\n",
        "# Print the statistics\n",
        "print(\"Mean:\\n\", mean_stats)\n",
        "print(\"\\nMode:\\n\", mode_stats)\n",
        "print(\"\\nMin:\\n\", min_stats)\n",
        "print(\"\\nMax:\\n\", max_stats)\n",
        "print(\"\\nStandard Deviation:\\n\", std_stats)\n"
      ],
      "metadata": {
        "colab": {
          "base_uri": "https://localhost:8080/"
        },
        "id": "AkWnss2b91z1",
        "outputId": "a2981f0a-e0b7-4fa1-f043-b769982ce09e"
      },
      "execution_count": 12,
      "outputs": [
        {
          "output_type": "stream",
          "name": "stdout",
          "text": [
            "Mean:\n",
            " CustomerID                100.50\n",
            "Age                        38.85\n",
            "Annual Income (k$)         60.56\n",
            "Spending Score (1-100)     50.20\n",
            "dtype: float64\n",
            "\n",
            "Mode:\n",
            " CustomerID                 1.0\n",
            "Age                       32.0\n",
            "Annual Income (k$)        54.0\n",
            "Spending Score (1-100)    42.0\n",
            "Name: 0, dtype: float64\n",
            "\n",
            "Min:\n",
            " CustomerID                 1\n",
            "Age                       18\n",
            "Annual Income (k$)        15\n",
            "Spending Score (1-100)     1\n",
            "dtype: int64\n",
            "\n",
            "Max:\n",
            " CustomerID                200\n",
            "Age                        70\n",
            "Annual Income (k$)        137\n",
            "Spending Score (1-100)     99\n",
            "dtype: int64\n",
            "\n",
            "Standard Deviation:\n",
            " CustomerID                57.879185\n",
            "Age                       13.969007\n",
            "Annual Income (k$)        26.264721\n",
            "Spending Score (1-100)    25.823522\n",
            "dtype: float64\n"
          ]
        }
      ]
    },
    {
      "cell_type": "markdown",
      "source": [],
      "metadata": {
        "id": "JrBvkHx2IgIO"
      }
    },
    {
      "cell_type": "code",
      "source": [
        "\n",
        "\n",
        "grouped_data = mall.groupby('Age')['Annual Income (k$)'].describe()\n",
        "\n",
        "# 3. Create a List of Mean Incomes\n",
        "\n",
        "\n",
        "# Print the summary statistics and the list of mean incomes\n",
        "print(grouped_data)"
      ],
      "metadata": {
        "colab": {
          "base_uri": "https://localhost:8080/"
        },
        "id": "1Lp8N0oZHLcf",
        "outputId": "6f3300d9-1873-4ee6-9029-d8063e2016a3"
      },
      "execution_count": 18,
      "outputs": [
        {
          "output_type": "stream",
          "name": "stdout",
          "text": [
            "     count        mean        std   min     25%    50%     75%    max\n",
            "Age                                                                  \n",
            "18     4.0   51.250000  14.056434  33.0   44.25   53.5   60.50   65.0\n",
            "19     8.0   57.000000  20.632845  15.0   47.50   63.5   67.25   81.0\n",
            "20     5.0   41.600000  24.815318  16.0   21.00   37.0   61.00   73.0\n",
            "21     5.0   38.800000  19.018412  15.0   30.00   33.0   54.00   62.0\n",
            "22     3.0   31.333333  22.278540  17.0   18.50   20.0   38.50   57.0\n",
            "23     6.0   41.500000  23.441416  16.0   20.75   41.5   60.00   70.0\n",
            "24     4.0   39.250000  16.357975  20.0   33.50   38.5   44.25   60.0\n",
            "25     3.0   57.666667  29.263174  24.0   48.00   72.0   74.50   77.0\n",
            "26     2.0   58.000000   5.656854  54.0   56.00   58.0   60.00   62.0\n",
            "27     6.0   63.166667  18.400181  40.0   49.50   63.5   75.25   88.0\n",
            "28     4.0   85.250000  11.615363  76.0   76.75   82.0   90.50  101.0\n",
            "29     5.0   63.600000  28.866936  28.0   40.00   73.0   79.00   98.0\n",
            "30     7.0   76.142857  39.612408  19.0   56.00   78.0   93.50  137.0\n",
            "31     8.0   48.375000  23.323425  17.0   35.50   41.5   70.50   81.0\n",
            "32    11.0   87.181818  26.809768  48.0   74.00   77.0  100.00  137.0\n",
            "33     3.0   80.333333  35.837597  42.0   64.00   86.0   99.50  113.0\n",
            "34     5.0   79.000000  15.968719  58.0   78.00   78.0   78.00  103.0\n",
            "35     9.0   46.666667  38.632888  18.0   21.00   24.0   74.00  120.0\n",
            "36     6.0   81.000000  22.556595  37.0   85.50   87.0   87.00  103.0\n",
            "37     3.0   65.000000  40.112342  20.0   49.00   78.0   87.50   97.0\n",
            "38     6.0   74.500000  20.462160  54.0   64.75   69.0   76.25  113.0\n",
            "39     3.0   72.666667   4.725816  69.0   70.00   71.0   74.50   78.0\n",
            "40     6.0   61.666667  19.551641  29.0   55.50   64.5   70.50   87.0\n",
            "41     2.0  101.000000   2.828427  99.0  100.00  101.0  102.00  103.0\n",
            "42     2.0   60.000000  36.769553  34.0   47.00   60.0   73.00   86.0\n",
            "43     3.0   65.666667  15.695010  48.0   59.50   71.0   74.50   78.0\n",
            "44     2.0   75.500000   3.535534  73.0   74.25   75.5   76.75   78.0\n",
            "45     3.0   69.333333  50.767444  28.0   41.00   54.0   90.00  126.0\n",
            "46     3.0   59.000000  36.755952  25.0   39.50   54.0   76.00   98.0\n",
            "47     6.0   70.166667  27.694163  43.0   51.75   65.5   76.25  120.0\n",
            "48     5.0   58.200000  13.700365  39.0   54.00   60.0   61.00   77.0\n",
            "49     7.0   51.000000  12.884099  33.0   40.50   54.0   62.00   65.0\n",
            "50     5.0   58.600000  18.420098  40.0   43.00   58.0   67.00   85.0\n",
            "51     2.0   55.500000  16.263456  44.0   49.75   55.5   61.25   67.0\n",
            "52     2.0   55.500000  45.961941  23.0   39.25   55.5   71.75   88.0\n",
            "53     2.0   39.500000   9.192388  33.0   36.25   39.5   42.75   46.0\n",
            "54     4.0   59.750000  30.998656  28.0   42.25   55.0   72.50  101.0\n",
            "55     1.0   57.000000        NaN  57.0   57.00   57.0   57.00   57.0\n",
            "56     1.0   79.000000        NaN  79.0   79.00   79.0   79.00   79.0\n",
            "57     2.0   64.500000  14.849242  54.0   59.25   64.5   69.75   75.0\n",
            "58     2.0   54.000000  48.083261  20.0   37.00   54.0   71.00   88.0\n",
            "59     4.0   65.250000  21.792583  43.0   51.25   62.5   76.50   93.0\n",
            "60     3.0   43.333333  11.547005  30.0   40.00   50.0   50.00   50.0\n",
            "63     2.0   56.500000  12.020815  48.0   52.25   56.5   60.75   65.0\n",
            "64     1.0   19.000000        NaN  19.0   19.00   19.0   19.00   19.0\n",
            "65     2.0   50.500000  17.677670  38.0   44.25   50.5   56.75   63.0\n",
            "66     2.0   63.000000   0.000000  63.0   63.00   63.0   63.00   63.0\n",
            "67     4.0   45.500000  18.699376  19.0   40.00   50.5   56.00   62.0\n",
            "68     3.0   56.666667   7.767453  48.0   53.50   59.0   61.00   63.0\n",
            "69     1.0   44.000000        NaN  44.0   44.00   44.0   44.00   44.0\n",
            "70     2.0   47.500000   2.121320  46.0   46.75   47.5   48.25   49.0\n",
            "\n",
            "Mean Incomes by Age Group: [51.25, 57.0, 41.6, 38.8, 31.333333333333332, 41.5, 39.25, 57.666666666666664, 58.0, 63.166666666666664, 85.25, 63.6, 76.14285714285714, 48.375, 87.18181818181819, 80.33333333333333, 79.0, 46.666666666666664, 81.0, 65.0, 74.5, 72.66666666666667, 61.666666666666664, 101.0, 60.0, 65.66666666666667, 75.5, 69.33333333333333, 59.0, 70.16666666666667, 58.2, 51.0, 58.6, 55.5, 55.5, 39.5, 59.75, 57.0, 79.0, 64.5, 54.0, 65.25, 43.333333333333336, 56.5, 19.0, 50.5, 63.0, 45.5, 56.666666666666664, 44.0, 47.5]\n"
          ]
        }
      ]
    },
    {
      "source": [
        "\n",
        "\n",
        "grouped_List = mall.groupby('Age')['Annual Income (k$)'].apply(list)\n",
        "print(grouped_List)\n"
      ],
      "cell_type": "code",
      "execution_count": 19,
      "outputs": [
        {
          "output_type": "stream",
          "name": "stdout",
          "text": [
            "Age\n",
            "18                                   [33, 48, 59, 65]\n",
            "19                   [15, 46, 48, 63, 64, 65, 74, 81]\n",
            "20                               [16, 21, 37, 61, 73]\n",
            "21                               [15, 30, 33, 54, 62]\n",
            "22                                       [17, 20, 57]\n",
            "23                           [16, 18, 29, 54, 62, 70]\n",
            "24                                   [20, 38, 39, 60]\n",
            "25                                       [24, 72, 77]\n",
            "26                                           [54, 62]\n",
            "27                           [40, 46, 60, 67, 78, 88]\n",
            "28                                  [76, 77, 87, 101]\n",
            "29                               [28, 40, 73, 79, 98]\n",
            "30                      [19, 34, 78, 78, 88, 99, 137]\n",
            "31                   [17, 25, 39, 40, 43, 70, 72, 81]\n",
            "32    [48, 60, 73, 75, 76, 77, 87, 97, 103, 126, 137]\n",
            "33                                      [42, 86, 113]\n",
            "34                              [58, 78, 78, 78, 103]\n",
            "35              [18, 19, 21, 23, 24, 28, 74, 93, 120]\n",
            "36                          [37, 85, 87, 87, 87, 103]\n",
            "37                                       [20, 78, 97]\n",
            "38                          [54, 64, 67, 71, 78, 113]\n",
            "39                                       [69, 71, 78]\n",
            "40                           [29, 54, 60, 69, 71, 87]\n",
            "41                                          [99, 103]\n",
            "42                                           [34, 86]\n",
            "43                                       [48, 71, 78]\n",
            "44                                           [73, 78]\n",
            "45                                      [28, 54, 126]\n",
            "46                                       [25, 54, 98]\n",
            "47                          [43, 49, 60, 71, 78, 120]\n",
            "48                               [39, 54, 60, 61, 77]\n",
            "49                       [33, 39, 42, 54, 62, 62, 65]\n",
            "50                               [40, 43, 58, 67, 85]\n",
            "51                                           [44, 67]\n",
            "52                                           [23, 88]\n",
            "53                                           [33, 46]\n",
            "54                                  [28, 47, 63, 101]\n",
            "55                                               [57]\n",
            "56                                               [79]\n",
            "57                                           [54, 75]\n",
            "58                                           [20, 88]\n",
            "59                                   [43, 54, 71, 93]\n",
            "60                                       [30, 50, 50]\n",
            "63                                           [48, 65]\n",
            "64                                               [19]\n",
            "65                                           [38, 63]\n",
            "66                                           [63, 63]\n",
            "67                                   [19, 47, 54, 62]\n",
            "68                                       [48, 59, 63]\n",
            "69                                               [44]\n",
            "70                                           [46, 49]\n",
            "Name: Annual Income (k$), dtype: object\n"
          ]
        }
      ],
      "metadata": {
        "colab": {
          "base_uri": "https://localhost:8080/"
        },
        "id": "7-eZ_sai9yFj",
        "outputId": "a958e421-a990-467f-d162-23c7707fab92"
      }
    }
  ]
}