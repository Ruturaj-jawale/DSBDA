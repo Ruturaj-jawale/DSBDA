{
 "cells": [
  {
   "cell_type": "code",
   "id": "initial_id",
   "metadata": {
    "collapsed": true,
    "jupyter": {
     "is_executing": true
    }
   },
   "source": [
    "import pandas as pd\n",
    "import numpy as np\n",
    "import matplotlib.pyplot as plt\n",
    "import seaborn as sns\n",
    "from sklearn.preprocessing import LabelEncoder\n",
    "\n"
   ],
   "outputs": [],
   "execution_count": null
  },
  {
   "cell_type": "code",
   "execution_count": null,
   "id": "5fc1ccf82da204d6",
   "metadata": {
    "ExecuteTime": {
     "end_time": "2025-02-11T03:36:50.131661Z",
     "start_time": "2025-02-07T07:34:25.210040Z"
    }
   },
   "outputs": [
    {
     "name": "stdout",
     "output_type": "stream",
     "text": [
      "  Name Gender  Maths_score  Reading_score  Writing_Score  Placement_Score  \\\n",
      "0  ABC      M         61.0           76.0             72               75   \n",
      "1  ABD      F         73.0           80.0             67               79   \n",
      "2  ABE      M         80.0           83.0             65               82   \n",
      "3  ABR      F         67.0           81.0             60               90   \n",
      "4  BCA      F          NaN           83.0             80               75   \n",
      "\n",
      "   Club_Join_Date  Placement_offer_Count  \n",
      "0            2018                      1  \n",
      "1            2021                      1  \n",
      "2            2019                      2  \n",
      "3            2021                      3  \n",
      "4            2021                      1  \n"
     ]
    }
   ],
   "source": [
    "\n",
    "# Read the CSV file\n",
    "df = pd.read_csv(r\"C:\\Users\\hp\\Desktop\\LEARNING\\COLLEGE WORK\\DS\\Book1.csv\")  # Replace with your actual file path\n",
    "\n",
    "# Display the first few rows\n",
    "print(df.head())\n"
   ]
  },
  {
   "cell_type": "code",
   "execution_count": 31,
   "id": "f8d4ad2cc5150bca",
   "metadata": {
    "ExecuteTime": {
     "end_time": "2025-02-11T03:36:50.136671600Z",
     "start_time": "2025-02-07T07:34:25.360913Z"
    }
   },
   "outputs": [
    {
     "name": "stdout",
     "output_type": "stream",
     "text": [
      "     Name  Gender  Maths_score  Reading_score  Writing_Score  Placement_Score  \\\n",
      "0   False   False        False          False          False            False   \n",
      "1   False   False        False          False          False            False   \n",
      "2   False   False        False          False          False            False   \n",
      "3   False   False        False          False          False            False   \n",
      "4   False   False         True          False          False            False   \n",
      "5   False   False        False          False          False            False   \n",
      "6   False   False        False           True          False            False   \n",
      "7   False   False        False          False          False            False   \n",
      "8   False   False        False          False          False            False   \n",
      "9   False   False        False          False          False            False   \n",
      "10  False   False        False          False          False            False   \n",
      "11  False   False        False          False          False            False   \n",
      "12  False   False        False          False          False            False   \n",
      "13  False   False        False          False          False            False   \n",
      "14  False   False        False          False          False            False   \n",
      "15  False   False        False          False          False            False   \n",
      "16  False   False        False          False          False            False   \n",
      "17  False   False        False          False          False            False   \n",
      "18  False   False        False          False          False            False   \n",
      "19  False   False        False          False          False            False   \n",
      "20  False   False        False          False          False            False   \n",
      "21  False   False        False          False          False            False   \n",
      "22  False   False        False          False          False            False   \n",
      "23  False   False        False          False          False            False   \n",
      "24  False   False        False          False          False            False   \n",
      "25  False   False        False          False          False            False   \n",
      "26  False   False        False          False          False            False   \n",
      "27  False   False        False          False          False            False   \n",
      "28  False   False        False          False          False            False   \n",
      "29  False   False        False          False          False            False   \n",
      "\n",
      "    Club_Join_Date  Placement_offer_Count  \n",
      "0            False                  False  \n",
      "1            False                  False  \n",
      "2            False                  False  \n",
      "3            False                  False  \n",
      "4            False                  False  \n",
      "5            False                  False  \n",
      "6            False                  False  \n",
      "7            False                  False  \n",
      "8            False                  False  \n",
      "9            False                  False  \n",
      "10           False                  False  \n",
      "11           False                  False  \n",
      "12           False                  False  \n",
      "13           False                  False  \n",
      "14           False                  False  \n",
      "15           False                  False  \n",
      "16           False                  False  \n",
      "17           False                  False  \n",
      "18           False                  False  \n",
      "19           False                  False  \n",
      "20           False                  False  \n",
      "21           False                  False  \n",
      "22           False                  False  \n",
      "23           False                  False  \n",
      "24           False                  False  \n",
      "25           False                  False  \n",
      "26           False                  False  \n",
      "27           False                  False  \n",
      "28           False                  False  \n",
      "29           False                  False  \n"
     ]
    }
   ],
   "source": [
    "missing_values = df.isnull()\n",
    "print(missing_values)"
   ]
  },
  {
   "cell_type": "code",
   "execution_count": 32,
   "id": "8c224a8ace626ef",
   "metadata": {
    "ExecuteTime": {
     "end_time": "2025-02-11T03:36:50.137669600Z",
     "start_time": "2025-02-07T07:34:25.574045Z"
    }
   },
   "outputs": [
    {
     "name": "stdout",
     "output_type": "stream",
     "text": [
      "    Name  Gender  Maths_score  Reading_score  Writing_Score  Placement_Score  \\\n",
      "0   True    True         True           True           True             True   \n",
      "1   True    True         True           True           True             True   \n",
      "2   True    True         True           True           True             True   \n",
      "3   True    True         True           True           True             True   \n",
      "4   True    True        False           True           True             True   \n",
      "5   True    True         True           True           True             True   \n",
      "6   True    True         True          False           True             True   \n",
      "7   True    True         True           True           True             True   \n",
      "8   True    True         True           True           True             True   \n",
      "9   True    True         True           True           True             True   \n",
      "10  True    True         True           True           True             True   \n",
      "11  True    True         True           True           True             True   \n",
      "12  True    True         True           True           True             True   \n",
      "13  True    True         True           True           True             True   \n",
      "14  True    True         True           True           True             True   \n",
      "15  True    True         True           True           True             True   \n",
      "16  True    True         True           True           True             True   \n",
      "17  True    True         True           True           True             True   \n",
      "18  True    True         True           True           True             True   \n",
      "19  True    True         True           True           True             True   \n",
      "20  True    True         True           True           True             True   \n",
      "21  True    True         True           True           True             True   \n",
      "22  True    True         True           True           True             True   \n",
      "23  True    True         True           True           True             True   \n",
      "24  True    True         True           True           True             True   \n",
      "25  True    True         True           True           True             True   \n",
      "26  True    True         True           True           True             True   \n",
      "27  True    True         True           True           True             True   \n",
      "28  True    True         True           True           True             True   \n",
      "29  True    True         True           True           True             True   \n",
      "\n",
      "    Club_Join_Date  Placement_offer_Count  \n",
      "0             True                   True  \n",
      "1             True                   True  \n",
      "2             True                   True  \n",
      "3             True                   True  \n",
      "4             True                   True  \n",
      "5             True                   True  \n",
      "6             True                   True  \n",
      "7             True                   True  \n",
      "8             True                   True  \n",
      "9             True                   True  \n",
      "10            True                   True  \n",
      "11            True                   True  \n",
      "12            True                   True  \n",
      "13            True                   True  \n",
      "14            True                   True  \n",
      "15            True                   True  \n",
      "16            True                   True  \n",
      "17            True                   True  \n",
      "18            True                   True  \n",
      "19            True                   True  \n",
      "20            True                   True  \n",
      "21            True                   True  \n",
      "22            True                   True  \n",
      "23            True                   True  \n",
      "24            True                   True  \n",
      "25            True                   True  \n",
      "26            True                   True  \n",
      "27            True                   True  \n",
      "28            True                   True  \n",
      "29            True                   True  \n",
      "  Name  Gender  Maths_score  Reading_score  Writing_Score  Placement_Score  \\\n",
      "0  ABC       1         61.0           76.0             72               75   \n",
      "1  ABD       0         73.0           80.0             67               79   \n",
      "2  ABE       1         80.0           83.0             65               82   \n",
      "3  ABR       0         67.0           81.0             60               90   \n",
      "4  BCA       0          NaN           83.0             80               75   \n",
      "\n",
      "   Club_Join_Date  Placement_offer_Count  \n",
      "0            2018                      1  \n",
      "1            2021                      1  \n",
      "2            2019                      2  \n",
      "3            2021                      3  \n",
      "4            2021                      1  \n"
     ]
    }
   ],
   "source": [
    "name = df.notnull()\n",
    "print(name)\n",
    "le =LabelEncoder()\n",
    "df['Gender'] = le.fit_transform(df['Gender'])\n",
    "print(df.head())\n",
    "\n",
    "\n"
   ]
  },
  {
   "cell_type": "code",
   "id": "660cbb239094ce18",
   "metadata": {
    "jupyter": {
     "is_executing": true
    }
   },
   "source": [
    "print(df.isnull().sum()) \n",
    "df.fillna(\"Unknown\", inplace=True)  # For categorical data\n",
    "# Fill categorical columns with \"Unknown\"\n",
    "categorical_cols = df.select_dtypes(include=['object']).columns\n",
    "df[categorical_cols] = df[categorical_cols].fillna(\"Unknown\")\n",
    "\n",
    "# Fill numerical columns with 0\n",
    "numerical_cols = df.select_dtypes(include=['number']).columns\n",
    "df[numerical_cols] = df[numerical_cols].fillna(0)\n",
    "\n",
    "\n"
   ],
   "outputs": [],
   "execution_count": null
  }
 ],
 "metadata": {
  "kernelspec": {
   "display_name": "Python 3",
   "language": "python",
   "name": "python3"
  },
  "language_info": {
   "codemirror_mode": {
    "name": "ipython",
    "version": 2
   },
   "file_extension": ".py",
   "mimetype": "text/x-python",
   "name": "python",
   "nbconvert_exporter": "python",
   "pygments_lexer": "ipython2",
   "version": "2.7.6"
  }
 },
 "nbformat": 4,
 "nbformat_minor": 5
}
