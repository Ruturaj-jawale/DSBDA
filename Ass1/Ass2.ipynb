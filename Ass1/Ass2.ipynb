{
 "cells": [
  {
   "cell_type": "code",
   "execution_count": 1,
   "id": "initial_id",
   "metadata": {
    "jupyter": {
     "is_executing": true
    }
   },
   "outputs": [],
   "source": [
    "import pandas as pd\n",
    "import numpy as np\n",
    "import matplotlib.pyplot as plt\n",
    "import seaborn as sns\n",
    "from sklearn.preprocessing import LabelEncoder\n",
    "\n"
   ]
  },
  {
   "cell_type": "code",
   "execution_count": 2,
   "id": "5fc1ccf82da204d6",
   "metadata": {
    "ExecuteTime": {
     "end_time": "2025-02-11T03:36:50.131661Z",
     "start_time": "2025-02-07T07:34:25.210040Z"
    }
   },
   "outputs": [
    {
     "name": "stdout",
     "output_type": "stream",
     "text": [
      "  Name Gender  Maths_score  Reading_score  Writing_Score  Placement_Score  \\\n",
      "0  ABC      M         61.0           76.0             72               75   \n",
      "1  ABD      F         73.0           80.0             67               79   \n",
      "2  ABE      M         80.0           83.0             65               82   \n",
      "3  ABR      F         67.0           81.0             60               90   \n",
      "4  BCA      F          NaN           83.0             80               75   \n",
      "\n",
      "   Club_Join_Date  Placement_offer_Count  \n",
      "0            2018                      1  \n",
      "1            2021                      1  \n",
      "2            2019                      2  \n",
      "3            2021                      3  \n",
      "4            2021                      1  \n"
     ]
    }
   ],
   "source": [
    "\n",
    "# Read the CSV file\n",
    "df = pd.read_csv(r\"C:\\Users\\hp\\Desktop\\LEARNING\\COLLEGE WORK\\DS\\Book1.csv\")  # Replace with your actual file path\n",
    "\n",
    "# Display the first few rows\n",
    "print(df.head())\n"
   ]
  },
  {
   "cell_type": "code",
   "execution_count": 3,
   "id": "f8d4ad2cc5150bca",
   "metadata": {
    "ExecuteTime": {
     "end_time": "2025-02-11T03:36:50.136671600Z",
     "start_time": "2025-02-07T07:34:25.360913Z"
    }
   },
   "outputs": [
    {
     "name": "stdout",
     "output_type": "stream",
     "text": [
      "     Name  Gender  Maths_score  Reading_score  Writing_Score  Placement_Score  \\\n",
      "0   False   False        False          False          False            False   \n",
      "1   False   False        False          False          False            False   \n",
      "2   False   False        False          False          False            False   \n",
      "3   False   False        False          False          False            False   \n",
      "4   False   False         True          False          False            False   \n",
      "5   False   False        False          False          False            False   \n",
      "6   False   False        False           True          False            False   \n",
      "7   False   False        False          False          False            False   \n",
      "8   False   False        False          False          False            False   \n",
      "9   False   False        False          False          False            False   \n",
      "10  False   False        False          False          False            False   \n",
      "11  False   False        False          False          False            False   \n",
      "12  False   False        False          False          False            False   \n",
      "13  False   False        False          False          False            False   \n",
      "14  False   False        False          False          False            False   \n",
      "15  False   False        False          False          False            False   \n",
      "16  False   False        False          False          False            False   \n",
      "17  False   False        False          False          False            False   \n",
      "18  False   False        False          False          False            False   \n",
      "19  False   False        False          False          False            False   \n",
      "20  False   False        False          False          False            False   \n",
      "21  False   False        False          False          False            False   \n",
      "22  False   False        False          False          False            False   \n",
      "23  False   False        False          False          False            False   \n",
      "24  False   False        False          False          False            False   \n",
      "25  False   False        False          False          False            False   \n",
      "26  False   False        False          False          False            False   \n",
      "27  False   False        False          False          False            False   \n",
      "28  False   False        False          False          False            False   \n",
      "29  False   False        False          False          False            False   \n",
      "\n",
      "    Club_Join_Date  Placement_offer_Count  \n",
      "0            False                  False  \n",
      "1            False                  False  \n",
      "2            False                  False  \n",
      "3            False                  False  \n",
      "4            False                  False  \n",
      "5            False                  False  \n",
      "6            False                  False  \n",
      "7            False                  False  \n",
      "8            False                  False  \n",
      "9            False                  False  \n",
      "10           False                  False  \n",
      "11           False                  False  \n",
      "12           False                  False  \n",
      "13           False                  False  \n",
      "14           False                  False  \n",
      "15           False                  False  \n",
      "16           False                  False  \n",
      "17           False                  False  \n",
      "18           False                  False  \n",
      "19           False                  False  \n",
      "20           False                  False  \n",
      "21           False                  False  \n",
      "22           False                  False  \n",
      "23           False                  False  \n",
      "24           False                  False  \n",
      "25           False                  False  \n",
      "26           False                  False  \n",
      "27           False                  False  \n",
      "28           False                  False  \n",
      "29           False                  False  \n"
     ]
    }
   ],
   "source": [
    "missing_values = df.isnull()\n",
    "print(missing_values)"
   ]
  },
  {
   "cell_type": "code",
   "execution_count": 4,
   "id": "8c224a8ace626ef",
   "metadata": {
    "ExecuteTime": {
     "end_time": "2025-02-11T03:36:50.137669600Z",
     "start_time": "2025-02-07T07:34:25.574045Z"
    }
   },
   "outputs": [
    {
     "name": "stdout",
     "output_type": "stream",
     "text": [
      "    Name  Gender  Maths_score  Reading_score  Writing_Score  Placement_Score  \\\n",
      "0   True    True         True           True           True             True   \n",
      "1   True    True         True           True           True             True   \n",
      "2   True    True         True           True           True             True   \n",
      "3   True    True         True           True           True             True   \n",
      "4   True    True        False           True           True             True   \n",
      "5   True    True         True           True           True             True   \n",
      "6   True    True         True          False           True             True   \n",
      "7   True    True         True           True           True             True   \n",
      "8   True    True         True           True           True             True   \n",
      "9   True    True         True           True           True             True   \n",
      "10  True    True         True           True           True             True   \n",
      "11  True    True         True           True           True             True   \n",
      "12  True    True         True           True           True             True   \n",
      "13  True    True         True           True           True             True   \n",
      "14  True    True         True           True           True             True   \n",
      "15  True    True         True           True           True             True   \n",
      "16  True    True         True           True           True             True   \n",
      "17  True    True         True           True           True             True   \n",
      "18  True    True         True           True           True             True   \n",
      "19  True    True         True           True           True             True   \n",
      "20  True    True         True           True           True             True   \n",
      "21  True    True         True           True           True             True   \n",
      "22  True    True         True           True           True             True   \n",
      "23  True    True         True           True           True             True   \n",
      "24  True    True         True           True           True             True   \n",
      "25  True    True         True           True           True             True   \n",
      "26  True    True         True           True           True             True   \n",
      "27  True    True         True           True           True             True   \n",
      "28  True    True         True           True           True             True   \n",
      "29  True    True         True           True           True             True   \n",
      "\n",
      "    Club_Join_Date  Placement_offer_Count  \n",
      "0             True                   True  \n",
      "1             True                   True  \n",
      "2             True                   True  \n",
      "3             True                   True  \n",
      "4             True                   True  \n",
      "5             True                   True  \n",
      "6             True                   True  \n",
      "7             True                   True  \n",
      "8             True                   True  \n",
      "9             True                   True  \n",
      "10            True                   True  \n",
      "11            True                   True  \n",
      "12            True                   True  \n",
      "13            True                   True  \n",
      "14            True                   True  \n",
      "15            True                   True  \n",
      "16            True                   True  \n",
      "17            True                   True  \n",
      "18            True                   True  \n",
      "19            True                   True  \n",
      "20            True                   True  \n",
      "21            True                   True  \n",
      "22            True                   True  \n",
      "23            True                   True  \n",
      "24            True                   True  \n",
      "25            True                   True  \n",
      "26            True                   True  \n",
      "27            True                   True  \n",
      "28            True                   True  \n",
      "29            True                   True  \n",
      "  Name  Gender  Maths_score  Reading_score  Writing_Score  Placement_Score  \\\n",
      "0  ABC       1         61.0           76.0             72               75   \n",
      "1  ABD       0         73.0           80.0             67               79   \n",
      "2  ABE       1         80.0           83.0             65               82   \n",
      "3  ABR       0         67.0           81.0             60               90   \n",
      "4  BCA       0          NaN           83.0             80               75   \n",
      "\n",
      "   Club_Join_Date  Placement_offer_Count  \n",
      "0            2018                      1  \n",
      "1            2021                      1  \n",
      "2            2019                      2  \n",
      "3            2021                      3  \n",
      "4            2021                      1  \n"
     ]
    }
   ],
   "source": [
    "name = df.notnull()\n",
    "print(name)\n",
    "le =LabelEncoder()\n",
    "df['Gender'] = le.fit_transform(df['Gender'])\n",
    "print(df.head())\n",
    "\n",
    "\n"
   ]
  },
  {
   "cell_type": "code",
   "execution_count": 5,
   "id": "660cbb239094ce18",
   "metadata": {
    "jupyter": {
     "is_executing": true
    }
   },
   "outputs": [
    {
     "name": "stdout",
     "output_type": "stream",
     "text": [
      "Name                     0\n",
      "Gender                   0\n",
      "Maths_score              1\n",
      "Reading_score            1\n",
      "Writing_Score            0\n",
      "Placement_Score          0\n",
      "Club_Join_Date           0\n",
      "Placement_offer_Count    0\n",
      "dtype: int64\n"
     ]
    }
   ],
   "source": [
    "print(df.isnull().sum()) \n",
    "# df.fillna(0, inplace=True)\n",
    "\n",
    "# # Verify that all missing values are replaced\n",
    "# print(df.isnull().sum())  # Should print all zeros\n",
    "\n",
    "\n",
    "\n"
   ]
  },
  {
   "cell_type": "code",
   "execution_count": 7,
   "id": "14386e61-d4af-4965-a875-12e02bec0b53",
   "metadata": {},
   "outputs": [
    {
     "name": "stdout",
     "output_type": "stream",
     "text": [
      "Name                     0\n",
      "Gender                   0\n",
      "Maths_score              0\n",
      "Reading_score            0\n",
      "Writing_Score            0\n",
      "Placement_Score          0\n",
      "Club_Join_Date           0\n",
      "Placement_offer_Count    0\n",
      "dtype: int64\n"
     ]
    }
   ],
   "source": [
    "# df.fillna(0, inplace=True)\n",
    "\n",
    "# #Verify that all missing values are replaced\n",
    "# print(df.isnull().sum())  # Should print all zeros\n"
   ]
  },
  {
   "cell_type": "code",
   "execution_count": 11,
   "id": "b26463ce-f52a-466e-a226-7388c18af465",
   "metadata": {},
   "outputs": [
    {
     "data": {
      "image/png": "[encoded data removed]",
      "text/plain": [
       "<Figure size 800x600 with 1 Axes>"
      ]
     },
     "metadata": {},
     "output_type": "display_data"
    }
   ],
   "source": [
    "columns_to_check = ['Maths_score', 'Reading_score', 'Writing_Score', 'Placement_Score']\n",
    "outliers_dict = {}\n",
    "\n",
    "# Detect outliers using Min-Max theorem\n",
    "for col in columns_to_check:\n",
    "    min_value = df[col].min()\n",
    "    max_value = df[col].max()\n",
    "    \n",
    "    # Define outlier threshold using Min-Max method\n",
    "    threshold = 1.5 * (max_value - min_value)\n",
    "    lower_bound = min_value - threshold\n",
    "    upper_bound = max_value + threshold\n",
    "    \n",
    "    # Find outliers\n",
    "    outliers = df[(df[col] < lower_bound) | (df[col] > upper_bound)][col]\n",
    "    \n",
    "    # Store outliers\n",
    "    outliers_dict[col] = outliers.tolist()\n",
    "    \n",
    "\n",
    "# Box Plot with Outliers\n",
    "plt.figure(figsize=(8, 6))\n",
    "df[columns_to_check].boxplot()\n",
    "\n",
    "# Highlight outliers in red\n",
    "for col in columns_to_check:\n",
    "    plt.scatter(\n",
    "        [columns_to_check.index(col) + 1] * len(outliers_dict[col]), \n",
    "        outliers_dict[col], \n",
    "        color='red', \n",
    "        label=\"Outlier\" if col == columns_to_check[0] else \"\"\n",
    "    )\n",
    "\n",
    "plt.title(\"Box Plot for Placement Score, Reading, Writing, and Maths Scores\")\n",
    "plt.ylabel(\"Scores\")\n",
    "plt.xticks(ticks=range(1, len(columns_to_check) + 1), labels=columns_to_check, rotation=15)\n",
    "plt.legend()\n",
    "plt.show()"
   ]
  },
  {
   "cell_type": "code",
   "execution_count": 12,
   "id": "ff87c215-be7f-49c8-a094-bfb146bc71b4",
   "metadata": {},
   "outputs": [
    {
     "name": "stderr",
     "output_type": "stream",
     "text": [
      "C:\\Users\\hp\\AppData\\Local\\Temp\\ipykernel_2844\\446764728.py:21: FutureWarning: A value is trying to be set on a copy of a DataFrame or Series through chained assignment using an inplace method.\n",
      "The behavior will change in pandas 3.0. This inplace method will never work because the intermediate object on which we are setting values always behaves as a copy.\n",
      "\n",
      "For example, when doing 'df[col].method(value, inplace=True)', try using 'df.method({col: value}, inplace=True)' or df[col] = df[col].method(value) instead, to perform the operation inplace on the original object.\n",
      "\n",
      "\n",
      "  df[col].fillna(median_value, inplace=True)\n",
      "C:\\Users\\hp\\AppData\\Local\\Temp\\ipykernel_2844\\446764728.py:21: FutureWarning: A value is trying to be set on a copy of a DataFrame or Series through chained assignment using an inplace method.\n",
      "The behavior will change in pandas 3.0. This inplace method will never work because the intermediate object on which we are setting values always behaves as a copy.\n",
      "\n",
      "For example, when doing 'df[col].method(value, inplace=True)', try using 'df.method({col: value}, inplace=True)' or df[col] = df[col].method(value) instead, to perform the operation inplace on the original object.\n",
      "\n",
      "\n",
      "  df[col].fillna(median_value, inplace=True)\n",
      "C:\\Users\\hp\\AppData\\Local\\Temp\\ipykernel_2844\\446764728.py:21: FutureWarning: A value is trying to be set on a copy of a DataFrame or Series through chained assignment using an inplace method.\n",
      "The behavior will change in pandas 3.0. This inplace method will never work because the intermediate object on which we are setting values always behaves as a copy.\n",
      "\n",
      "For example, when doing 'df[col].method(value, inplace=True)', try using 'df.method({col: value}, inplace=True)' or df[col] = df[col].method(value) instead, to perform the operation inplace on the original object.\n",
      "\n",
      "\n",
      "  df[col].fillna(median_value, inplace=True)\n",
      "C:\\Users\\hp\\AppData\\Local\\Temp\\ipykernel_2844\\446764728.py:21: FutureWarning: A value is trying to be set on a copy of a DataFrame or Series through chained assignment using an inplace method.\n",
      "The behavior will change in pandas 3.0. This inplace method will never work because the intermediate object on which we are setting values always behaves as a copy.\n",
      "\n",
      "For example, when doing 'df[col].method(value, inplace=True)', try using 'df.method({col: value}, inplace=True)' or df[col] = df[col].method(value) instead, to perform the operation inplace on the original object.\n",
      "\n",
      "\n",
      "  df[col].fillna(median_value, inplace=True)\n"
     ]
    },
    {
     "name": "stdout",
     "output_type": "stream",
     "text": [
      "Updated DataFrame with NaN replaced by non-outlier median:\n",
      "   Name  Gender  Maths_score  Reading_score  Writing_Score  Placement_Score  \\\n",
      "0   ABC       1         61.0           76.0             72               75   \n",
      "1   ABD       0         73.0           80.0             67               79   \n",
      "2   ABE       1         80.0           83.0             65               82   \n",
      "3   ABR       0         67.0           81.0             60               90   \n",
      "4   BCA       0          0.0           83.0             80               75   \n",
      "5   BCS       0         60.0           85.0             61               97   \n",
      "6   BCF       1         72.0            0.0             79               88   \n",
      "7   BCE       0         73.0           78.0             63               87   \n",
      "8   BVT       1         64.0           88.0             78               95   \n",
      "9   ANI       0         71.0           79.0             62               84   \n",
      "10  ANK       1         75.0           82.0             80               89   \n",
      "11  ANL       0         74.0           89.0             75               85   \n",
      "12  ANK       0         64.0           88.0             61               82   \n",
      "13  TGb       0         70.0           89.0             69               76   \n",
      "14  TNK       1         63.0           88.0             71               75   \n",
      "15  NJU       0         67.0           77.0             76               96   \n",
      "16  AKI       1         77.0           82.0             77               79   \n",
      "17  KJL       0         66.0           89.0             75               89   \n",
      "18  HHH       1         72.0           82.0             76               76   \n",
      "19  HUY       0         63.0           85.0             75               84   \n",
      "20  JHU       0         76.0           79.0             64               88   \n",
      "21  FRT       0         60.0           80.0             67               79   \n",
      "22  ASE       1         79.0           79.0             70               83   \n",
      "23  ASA       0         70.0           79.0             71               87   \n",
      "24  ANI       1         60.0           83.0             62               87   \n",
      "25  AHS       0         71.0           90.0             66               82   \n",
      "26  ASH       1         66.0           82.0             72               84   \n",
      "27  HUY       0         66.0           85.0             65               85   \n",
      "28  GGE       0         80.0           88.0             75               76   \n",
      "29  ASW       0         60.0           86.0             73               86   \n",
      "\n",
      "    Club_Join_Date  Placement_offer_Count  \n",
      "0             2018                      1  \n",
      "1             2021                      1  \n",
      "2             2019                      2  \n",
      "3             2021                      3  \n",
      "4             2021                      1  \n",
      "5             2020                      3  \n",
      "6             2021                      2  \n",
      "7             2021                      2  \n",
      "8             2021                      3  \n",
      "9             2019                      2  \n",
      "10            2019                      2  \n",
      "11            2019                      2  \n",
      "12            2021                      2  \n",
      "13            2021                      1  \n",
      "14            2018                      1  \n",
      "15            2021                      3  \n",
      "16            2021                      1  \n",
      "17            2021                      2  \n",
      "18            2021                      1  \n",
      "19            2019                      2  \n",
      "20            2020                      2  \n",
      "21            2018                      1  \n",
      "22            2021                      2  \n",
      "23            2021                      2  \n",
      "24            2018                      2  \n",
      "25            2021                      2  \n",
      "26            2018                      2  \n",
      "27            2021                      2  \n",
      "28            2019                      1  \n",
      "29            2019                      2  \n"
     ]
    },
    {
     "data": {
      "image/png": "[encoded data removed]",
      "text/plain": [
       "<Figure size 800x600 with 1 Axes>"
      ]
     },
     "metadata": {},
     "output_type": "display_data"
    }
   ],
   "source": [
    "columns_to_check = ['Maths_score', 'Reading_score', 'Writing_Score', 'Placement_Score']\n",
    "\n",
    "# Function to replace NaN with non-outlier median\n",
    "def replace_nan_with_non_outlier_median(df, columns):\n",
    "    for col in columns:\n",
    "        min_value = df[col].min()\n",
    "        max_value = df[col].max()\n",
    "        \n",
    "        # Min-Max outlier threshold\n",
    "        threshold = 1.5 * (max_value - min_value)\n",
    "        lower_bound = min_value - threshold\n",
    "        upper_bound = max_value + threshold\n",
    "        \n",
    "        # Identify non-outlier values\n",
    "        non_outliers = df[(df[col] >= lower_bound) & (df[col] <= upper_bound)][col]\n",
    "        \n",
    "        # Compute median of non-outlier values\n",
    "        median_value = non_outliers.median()\n",
    "        \n",
    "        # Replace NaN values with this median\n",
    "        df[col].fillna(median_value, inplace=True)\n",
    "    \n",
    "    return df\n",
    "\n",
    "# Replace NaN with non-outlier median\n",
    "df = replace_nan_with_non_outlier_median(df, columns_to_check)\n",
    "\n",
    "# Print updated DataFrame\n",
    "print(\"Updated DataFrame with NaN replaced by non-outlier median:\")\n",
    "print(df)\n",
    "\n",
    "# Box Plot to visualize data after replacement\n",
    "plt.figure(figsize=(8, 6))\n",
    "df[columns_to_check].boxplot()\n",
    "plt.title(\"Box Plot After Replacing NaN with Non-Outlier Median\")\n",
    "plt.ylabel(\"Scores\")\n",
    "plt.xticks(rotation=15)\n",
    "plt.show()"
   ]
  },
  {
   "cell_type": "code",
   "execution_count": null,
   "id": "c85e4523-17f0-41ad-8b3d-d7b89dfa6f4e",
   "metadata": {},
   "outputs": [],
   "source": []
  }
 ],
 "metadata": {
  "kernelspec": {
   "display_name": "Python 3 (ipykernel)",
   "language": "python",
   "name": "python3"
  },
  "language_info": {
   "codemirror_mode": {
    "name": "ipython",
    "version": 3
   },
   "file_extension": ".py",
   "mimetype": "text/x-python",
   "name": "python",
   "nbconvert_exporter": "python",
   "pygments_lexer": "ipython3",
   "version": "3.12.2"
  }
 },
 "nbformat": 4,
 "nbformat_minor": 5
}
